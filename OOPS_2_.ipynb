{
  "nbformat": 4,
  "nbformat_minor": 0,
  "metadata": {
    "colab": {
      "name": "OOPS 2 .ipynb",
      "provenance": [],
      "authorship_tag": "ABX9TyMwQjrzH+6fD1alLu1bo3su",
      "include_colab_link": true
    },
    "kernelspec": {
      "name": "python3",
      "display_name": "Python 3"
    },
    "language_info": {
      "name": "python"
    }
  },
  "cells": [
    {
      "cell_type": "markdown",
      "metadata": {
        "id": "view-in-github",
        "colab_type": "text"
      },
      "source": [
        "<a href=\"https://colab.research.google.com/github/ZecTox/OOPS-Assignment/blob/main/OOPS_2_.ipynb\" target=\"_parent\"><img src=\"https://colab.research.google.com/assets/colab-badge.svg\" alt=\"Open In Colab\"/></a>"
      ]
    },
    {
      "cell_type": "code",
      "metadata": {
        "colab": {
          "base_uri": "https://localhost:8080/"
        },
        "id": "BHWcCwssiUG0",
        "outputId": "5224392d-6c8a-4e79-f705-5a653adddce1"
      },
      "source": [
        "#Question-1\n",
        "class circle:\n",
        "  def area(self, r):\n",
        "    a = r*r\n",
        "    print(f\"Area = {a}\")\n",
        "  def preimeter(self, r):\n",
        "    p = 2*3.14*r\n",
        "    print(f\"Perimeter = {p}\")\n",
        "C1 = circle()\n",
        "r = int(input())\n",
        "C1.area(r)\n",
        "C1.preimeter(r)"
      ],
      "execution_count": 2,
      "outputs": [
        {
          "output_type": "stream",
          "name": "stdout",
          "text": [
            "7\n",
            "Area = 49\n",
            "Perimeter = 43.96\n"
          ]
        }
      ]
    },
    {
      "cell_type": "code",
      "metadata": {
        "colab": {
          "base_uri": "https://localhost:8080/"
        },
        "id": "BtNF3Z80mEBO",
        "outputId": "f56dec02-b3c5-4b48-f5b1-82d60f23e42c"
      },
      "source": [
        "#Question-2\n",
        "\n",
        "class data:\n",
        "  def indetails(self):\n",
        "    self.name = input(\"Enter name: \")\n",
        "    self.id = int(input(\"Enter id: \"))\n",
        "    self.branch = input(\"Enter Branch: \")\n",
        "    self.salary = int(input(\"Enter Salary: \"))\n",
        "  def details(self):\n",
        "   print(f\"\"\"     Name: {self.name}\n",
        "          Emp ID: {self.id}\n",
        "          Branch: {self.branch}\n",
        "          Salary: {self.salary}\"\"\")\n",
        "print(\"Enter data of 5 Teachers: \")\n",
        "for i in range(1,6):\n",
        "  vi = data()\n",
        "  vi.indetails()\n",
        "print(\"Details of Teaching Faculties are:\")\n",
        "for i in range(1,6):\n",
        "  vi.details()"
      ],
      "execution_count": 9,
      "outputs": [
        {
          "output_type": "stream",
          "name": "stdout",
          "text": [
            "Enter data of 5 Teachers: \n",
            "Enter name: ab\n",
            "Enter id: 12\n",
            "Enter Branch: cse\n",
            "Enter Salary: 800000\n",
            "Enter name: cd\n",
            "Enter id: 24\n",
            "Enter Branch: cse\n",
            "Enter Salary: 820000\n",
            "Enter name: ef\n",
            "Enter id: 36\n",
            "Enter Branch: cse\n",
            "Enter Salary: 810000\n",
            "Enter name: gh\n",
            "Enter id: 48\n",
            "Enter Branch: ece\n",
            "Enter Salary: 840000\n",
            "Enter name: ij\n",
            "Enter id: 60\n",
            "Enter Branch: dsai\n",
            "Enter Salary: 805000\n",
            "Details of Teaching Faculties are:\n",
            "     Name: ij\n",
            "          Emp ID: 60\n",
            "          Branch: dsai\n",
            "          Salary: 805000\n",
            "     Name: ij\n",
            "          Emp ID: 60\n",
            "          Branch: dsai\n",
            "          Salary: 805000\n",
            "     Name: ij\n",
            "          Emp ID: 60\n",
            "          Branch: dsai\n",
            "          Salary: 805000\n",
            "     Name: ij\n",
            "          Emp ID: 60\n",
            "          Branch: dsai\n",
            "          Salary: 805000\n",
            "     Name: ij\n",
            "          Emp ID: 60\n",
            "          Branch: dsai\n",
            "          Salary: 805000\n"
          ]
        }
      ]
    },
    {
      "cell_type": "code",
      "metadata": {
        "colab": {
          "base_uri": "https://localhost:8080/"
        },
        "id": "RpcyGI_zrOK9",
        "outputId": "810f9290-6099-42d6-e33c-e8bc1653d45c"
      },
      "source": [
        "#Question 3\n",
        "class Account:\n",
        "  def details(self, acno, acho, amount):\n",
        "    self.acountno = acno\n",
        "    self.acountholdername = acho\n",
        "    self.amount = amount\n",
        "  def Deposit(self, acno):\n",
        "    if self.acountno == acno:\n",
        "      print(\"\"\"Login sucessfull\n",
        "      Enter amount to deposit: \"\"\")\n",
        "      amt = int(input())\n",
        "      print(f\"{amt} deposited sucessfully.\")\n",
        "    else:\n",
        "      print(\"You entered wrong details.\")\n",
        "  def Withdraw(self, acno, acho, amount):\n",
        "    if self.acountno == acno and self.acountholdername == acho:\n",
        "      print(\"\"\"Login Sucessfull\n",
        "      Enter Amount to withdraw: \"\"\")\n",
        "      amt = int(input())\n",
        "      if amt > self.amount:\n",
        "        print(\"Out of balance\")\n",
        "      else:\n",
        "        self.amount = self.amount - amt\n",
        "        print(f\"Withdrawn {amt} rupees\")\n",
        "    else:\n",
        "      print(\"You enterred wrong details.\")\n",
        "  def CheckBal(self, acno, acho ):\n",
        "    if self.acountno == acno and self.acountholdername == acho:\n",
        "      print(f\"Login sucessful, your account balance is {self.amount}\")  \n",
        "    else:\n",
        "      print(\"You entered wrong details.\")\n",
        "  def Displayac(self, anco):\n",
        "      print(f\"\"\" Your account details are:\n",
        "        Account Number: {self.acountno}\n",
        "        Account Holder name: {self.acountholdername}\n",
        "        Amount = {self.amount}\"\"\")\n",
        "\n",
        "P1 = Account()\n",
        "P1.details(111, \"Tejas\", 774)\n",
        "P2 = Account()\n",
        "P2.details(112, \"akhil\", 1024)\n",
        "P3 = Account()\n",
        "P3.details(113, \"Rahul\", 10000)\n",
        "P4 = Account()\n",
        "P4.details(114, \"ram\", 20)\n",
        "P1.Deposit(111)\n",
        "P2.Withdraw(112, \"Sahil\", 500)\n",
        "P2.Displayac(112)\n",
        "P3.CheckBal(113, \"ladiff\")\n",
        "P4.Displayac(114)"
      ],
      "execution_count": 13,
      "outputs": [
        {
          "output_type": "stream",
          "name": "stdout",
          "text": [
            "Login sucessfull\n",
            "      Enter amount to deposit: \n",
            "4000\n",
            "4000 deposited sucessfully.\n",
            "You enterred wrong details.\n",
            " Your account details are:\n",
            "        Account Number: 112\n",
            "        Account Holder name: akhil\n",
            "        Amount = 1024\n",
            "You entered wrong details.\n",
            " Your account details are:\n",
            "        Account Number: 114\n",
            "        Account Holder name: ram\n",
            "        Amount = 20\n"
          ]
        }
      ]
    },
    {
      "cell_type": "code",
      "metadata": {
        "colab": {
          "base_uri": "https://localhost:8080/"
        },
        "id": "lRv9ICV9sWEM",
        "outputId": "f1df5ed2-8daa-4d2d-afd2-c0967d1e03c2"
      },
      "source": [
        "#Question 4\n",
        "class Student:\n",
        "  def details(self, name , usn, mark_eng, mark_maths , mark_science):\n",
        "    self.name = name\n",
        "    self.usn = usn\n",
        "    self.mark_eng = mark_eng\n",
        "    self.mark_maths = mark_maths\n",
        "    self.mark_science = mark_science\n",
        "    self.nlist = [\"arun\", \"ram\"]\n",
        "    self.nlist.append(name)\n",
        "    self.Emarks = [87, 77]\n",
        "    self.Emarks.append(mark_eng)\n",
        "    self.Mmarks = [54, 53]\n",
        "    self.Mmarks.append(mark_maths)\n",
        "    self.Smarks = [66, 69]\n",
        "    self.Smarks.append(mark_science)\n",
        "  def display(self, name, nlist, usn, Emarks, Mmarks, Smarks):\n",
        "    for i in range(0,3):\n",
        "      if name == nlist[i]:\n",
        "        print(f\"Name = {nlist[i]},  USN = {usn} ,  Marks in English = {Emarks[i]} ,  Marks in Maths = {Mmarks[i]} ,  Marks in Science = {Smarks[i]}\")\n",
        "        exit\n",
        "      \n",
        "a1 = Student()\n",
        "a1.details(\"rahul\", 123, 76, 56, 45)\n",
        "a1.display(\"rahul\", a1.nlist, a1.usn, a1.Emarks, a1.Mmarks, a1.Smarks)"
      ],
      "execution_count": 14,
      "outputs": [
        {
          "output_type": "stream",
          "name": "stdout",
          "text": [
            "Name = rahul,  USN = 123 ,  Marks in English = 76 ,  Marks in Maths = 56 ,  Marks in Science = 45\n"
          ]
        }
      ]
    },
    {
      "cell_type": "code",
      "metadata": {
        "colab": {
          "base_uri": "https://localhost:8080/",
          "height": 518
        },
        "id": "gLKh_eWHsp1j",
        "outputId": "20ed9d7d-f01e-462e-c0f9-4ee821e917ec"
      },
      "source": [
        "#Question-5\n",
        "class Patient:\n",
        "  def __init__(self):\n",
        "    self.name = input(\"Name: \")\n",
        "    self.admit_date = input(\"Admit Date(dd/mm/yy): \")\n",
        "    i = int(input(\"Enter no of symptoms: \"))\n",
        "    self.symptom = []\n",
        "    self.gnum = 0\n",
        "    self.onum = 0\n",
        "    for j in range(1,i+1):\n",
        "      temp = input(f\"symptom {j}: \")\n",
        "      self.symptom.append(temp)\n",
        "    self.oxy = int(input(\"oxygen level: \"))\n",
        "    self.dis_date = input(\"Discharge Date(dd/mm/yy): \")\n",
        "  def ward(self):\n",
        "    if self.oxy <90:\n",
        "      print(\"Shift patient to ICU and keep on Oxygen\")\n",
        "      self.onum = self.onum + 1\n",
        "    else:\n",
        "      print(\"Patient's health is normal shift him to General Ward\")\n",
        "      self.gnum = self.gnun + 1\n",
        "  def patient_num(self):\n",
        "    print(f\"Patient in General ward are : {self.gnum}.\")\n",
        "    print(f\"Total Patients admitted are: {self.onum+self.gnum}.\")\n",
        "  def display(self):\n",
        "    print(f\"Patient Name: {self.name}  Patient's date of admit: {self.admit_date}   Patient's symptoms: {self.symptom}    Patient's Oxygen Level: {self.oxy}   Patient's date of discharge: {self.dis_date}\")\n",
        "\n",
        "\n",
        "p1= Patient()\n",
        "p1.display()\n",
        "p1.ward()\n",
        "p1.patient_num()"
      ],
      "execution_count": 16,
      "outputs": [
        {
          "output_type": "stream",
          "name": "stdout",
          "text": [
            "Name: tejas\n",
            "Admit Date(dd/mm/yy): 16/09/2021\n",
            "Enter no of symptoms: 3\n",
            "symptom 1: nausea\n",
            "symptom 2: dizziness\n",
            "symptom 3: severe cough\n",
            "oxygen level: 97\n",
            "Discharge Date(dd/mm/yy): 20/09/2021\n",
            "Patient Name: tejas  Patient's date of admit: 16/09/2021   Patient's symptoms: ['nausea', 'dizziness', 'severe cough']    Patient's Oxygen Level: 97   Patient's date of discharge: 20/09/2021\n",
            "Patient's health is normal shift him to General Ward\n"
          ]
        },
        {
          "output_type": "error",
          "ename": "AttributeError",
          "evalue": "ignored",
          "traceback": [
            "\u001b[0;31m---------------------------------------------------------------------------\u001b[0m",
            "\u001b[0;31mAttributeError\u001b[0m                            Traceback (most recent call last)",
            "\u001b[0;32m<ipython-input-16-a26da8ebbcd9>\u001b[0m in \u001b[0;36m<module>\u001b[0;34m()\u001b[0m\n\u001b[1;32m     29\u001b[0m \u001b[0mp1\u001b[0m\u001b[0;34m=\u001b[0m \u001b[0mPatient\u001b[0m\u001b[0;34m(\u001b[0m\u001b[0;34m)\u001b[0m\u001b[0;34m\u001b[0m\u001b[0;34m\u001b[0m\u001b[0m\n\u001b[1;32m     30\u001b[0m \u001b[0mp1\u001b[0m\u001b[0;34m.\u001b[0m\u001b[0mdisplay\u001b[0m\u001b[0;34m(\u001b[0m\u001b[0;34m)\u001b[0m\u001b[0;34m\u001b[0m\u001b[0;34m\u001b[0m\u001b[0m\n\u001b[0;32m---> 31\u001b[0;31m \u001b[0mp1\u001b[0m\u001b[0;34m.\u001b[0m\u001b[0mward\u001b[0m\u001b[0;34m(\u001b[0m\u001b[0;34m)\u001b[0m\u001b[0;34m\u001b[0m\u001b[0;34m\u001b[0m\u001b[0m\n\u001b[0m\u001b[1;32m     32\u001b[0m \u001b[0mp1\u001b[0m\u001b[0;34m.\u001b[0m\u001b[0mpatient_num\u001b[0m\u001b[0;34m(\u001b[0m\u001b[0;34m)\u001b[0m\u001b[0;34m\u001b[0m\u001b[0;34m\u001b[0m\u001b[0m\n",
            "\u001b[0;32m<ipython-input-16-a26da8ebbcd9>\u001b[0m in \u001b[0;36mward\u001b[0;34m(self)\u001b[0m\n\u001b[1;32m     19\u001b[0m     \u001b[0;32melse\u001b[0m\u001b[0;34m:\u001b[0m\u001b[0;34m\u001b[0m\u001b[0;34m\u001b[0m\u001b[0m\n\u001b[1;32m     20\u001b[0m       \u001b[0mprint\u001b[0m\u001b[0;34m(\u001b[0m\u001b[0;34m\"Patient's health is normal shift him to General Ward\"\u001b[0m\u001b[0;34m)\u001b[0m\u001b[0;34m\u001b[0m\u001b[0;34m\u001b[0m\u001b[0m\n\u001b[0;32m---> 21\u001b[0;31m       \u001b[0mself\u001b[0m\u001b[0;34m.\u001b[0m\u001b[0mgnum\u001b[0m \u001b[0;34m=\u001b[0m \u001b[0mself\u001b[0m\u001b[0;34m.\u001b[0m\u001b[0mgnun\u001b[0m \u001b[0;34m+\u001b[0m \u001b[0;36m1\u001b[0m\u001b[0;34m\u001b[0m\u001b[0;34m\u001b[0m\u001b[0m\n\u001b[0m\u001b[1;32m     22\u001b[0m   \u001b[0;32mdef\u001b[0m \u001b[0mpatient_num\u001b[0m\u001b[0;34m(\u001b[0m\u001b[0mself\u001b[0m\u001b[0;34m)\u001b[0m\u001b[0;34m:\u001b[0m\u001b[0;34m\u001b[0m\u001b[0;34m\u001b[0m\u001b[0m\n\u001b[1;32m     23\u001b[0m     \u001b[0mprint\u001b[0m\u001b[0;34m(\u001b[0m\u001b[0;34mf\"Patient in General ward are : {self.gnum}.\"\u001b[0m\u001b[0;34m)\u001b[0m\u001b[0;34m\u001b[0m\u001b[0;34m\u001b[0m\u001b[0m\n",
            "\u001b[0;31mAttributeError\u001b[0m: 'Patient' object has no attribute 'gnun'"
          ]
        }
      ]
    },
    {
      "cell_type": "code",
      "metadata": {
        "colab": {
          "base_uri": "https://localhost:8080/"
        },
        "id": "911TI3pttj4s",
        "outputId": "6b22b8e5-5d54-4ddf-a83b-c692b9d45827"
      },
      "source": [
        "#Question-6\n",
        "class Time:\n",
        "  def __init_D_(self):\n",
        "    self.hours = int(input(\"Enter hours: \"))\n",
        "    self.minutes = int(input(\"Minutes: \"))\n",
        "    self. seconds = int(input(\"Seconds:  \"))\n",
        "\n",
        "  def display_time(self):\n",
        "    if self.hours > 9:\n",
        "      print(\"{0}:\".format(self.hours), end='')\n",
        "    else:\n",
        "      print(\"0{0}:\".format(self.hours), end='')\n",
        "    if self.minutes > 9:\n",
        "      print(\"{0}:\".format(self.minutes), end='')\n",
        "    else:\n",
        "      print(\"0{0}:\".format(self.minutes), end='')\n",
        "    if self.seconds > 9:\n",
        "      print(\"{0}\".format(self.seconds), end='')\n",
        "    else:\n",
        "      print(\"0{0}\".format(self.seconds), end='')\n",
        "\n",
        "t = Time()\n",
        "t.display_time()"
      ],
      "execution_count": 18,
      "outputs": [
        {
          "output_type": "stream",
          "name": "stdout",
          "text": [
            "Enter hours: 10\n",
            "Minutes: 45\n",
            "Seconds:  0\n",
            "10:45:00"
          ]
        }
      ]
    },
    {
      "cell_type": "code",
      "metadata": {
        "colab": {
          "base_uri": "https://localhost:8080/"
        },
        "id": "o249gZ56uQsb",
        "outputId": "3ca38e7e-9b28-4a00-eb7d-0c32e5400b99"
      },
      "source": [
        "#Question-7\n",
        "class student:\n",
        "\n",
        "  def __init__(self, name, age, roll):\n",
        "    self.name = name\n",
        "    self.age = age\n",
        "    self.roll = roll  \n",
        "\n",
        "student1 = student(\"rahul\", 21, 33)\n",
        "student2 = student(\"rohit\", 22, 74) \n",
        "#function\n",
        "def comp():\n",
        "  if student1.age == student2.age:\n",
        "    print(\"the ages of two students are equal\")\n",
        "  else:\n",
        "    print(\"the ages are not equal\")\n",
        " \n",
        "comp()"
      ],
      "execution_count": 20,
      "outputs": [
        {
          "output_type": "stream",
          "name": "stdout",
          "text": [
            "the ages are not equal\n"
          ]
        }
      ]
    },
    {
      "cell_type": "code",
      "metadata": {
        "colab": {
          "base_uri": "https://localhost:8080/"
        },
        "id": "CKO25287ucFj",
        "outputId": "aed10bd3-d6ee-46e0-c8e2-88713b62552c"
      },
      "source": [
        "#Question-8\n",
        "class Student:\n",
        "  institute = \"IIIT Dharwad\"\n",
        "  semester = 3\n",
        "  def __init__(self):\n",
        "    self.name = input(\"Name: \")\n",
        "    self.USN = int(input(\"USN: \"))\n",
        "\n",
        "  def display_instance(self):\n",
        "    print(f\"Name: {self.name}   USN: {self.USN} \")\n",
        "  \n",
        "  def display_class(self):\n",
        "    print(f\"Institute name: {self.institute}   Semester: {self.semester}\")\n",
        "\n",
        "def explanation():\n",
        "  print(f\"It has 2 class variables - Institute and Semester, 2 instance variables - name and USN, 1 class method - printClass and 1 instance method - printInstance. Instance methods use the instance variables, whereas class methods use the class variables.\")\n",
        "\n",
        "std1 = Student()\n",
        "std1.display_class()\n",
        "std1.display_instance()\n",
        "explanation()"
      ],
      "execution_count": 22,
      "outputs": [
        {
          "output_type": "stream",
          "name": "stdout",
          "text": [
            "Name: tejas\n",
            "USN: 1234\n",
            "Institute name: IIIT Dharwad   Semester: 3\n",
            "Name: tejas   USN: 1234 \n",
            "It has 2 class variables - Institute and Semester, 2 instance variables - name and USN, 1 class method - printClass and 1 instance method - printInstance. Instance methods use the instance variables, whereas class methods use the class variables.\n"
          ]
        }
      ]
    },
    {
      "cell_type": "code",
      "metadata": {
        "colab": {
          "base_uri": "https://localhost:8080/"
        },
        "id": "IJcylZ-FvHXa",
        "outputId": "0adfc51a-f4ee-46f4-8a8c-2dc9c7932d3e"
      },
      "source": [
        "#Question-9\n",
        "class Student:\n",
        "\n",
        "  def __init__(self):\n",
        "    self.name = input(\"Enter name: \")\n",
        "    self.roll_no = input(\"Roll No.: \")\n",
        "    self.sem = (\"Semester: \")\n",
        "    self.lappi1 = self.laptop1(\"intel\", \"32 gb\", \"512 gb\")\n",
        "    self.lappi2 = self.laptop2(\"ryzen\", \"16 gb\", \"2 Tb\")\n",
        "\n",
        "  def display(self):\n",
        "    print(\"name of student is: \", self.name)\n",
        "    print(\"roll no. of student is: \", self.roll_no)\n",
        "    print(\"semester of student is: \", self.sem)\n",
        "\n",
        "  class laptop1:\n",
        "\n",
        "    def __init__(self, name, ram, hard_disc):\n",
        "      self.cpu = name\n",
        "      self.ram = ram\n",
        "      self.hard_disk = hard_disc\n",
        "\n",
        "    def display_inner1(self):\n",
        "      print(\"chip used in cpu is: \", self.cpu)\n",
        "      print(\"ram capacity is: \", self.ram)\n",
        "      print(\"hard_disk capacity is: \", self.hard_disk)\n",
        " \n",
        "  class laptop2: \n",
        "\n",
        "    def __init__(self, name, ram, hard_disc):\n",
        "      self.cpu = name\n",
        "      self.ram = ram\n",
        "      self.hard_disk = hard_disc\n",
        "    \n",
        "    def display_inner2(self):\n",
        "      print(f\"chip used in cpu is:  {self.cpu}\")\n",
        "      print(f\"ram capacity is: {self.ram}\")\n",
        "      print(f\"hard_disk capacity is:  {self.hard_disk}\")      \n",
        "\n",
        "student1 = Student()\n",
        "student1.display() \n",
        "\n",
        "print(\"\\n\")\n",
        "\n",
        "l1 = student1.lappi1\n",
        "l1.display_inner1()\n",
        "\n",
        "print(\"\\n\")\n",
        "\n",
        "l2 = student1.lappi2\n",
        "l2.display_inner2()"
      ],
      "execution_count": 24,
      "outputs": [
        {
          "output_type": "stream",
          "name": "stdout",
          "text": [
            "Enter name: tejas\n",
            "Roll No.: 134\n",
            "name of student is:  tejas\n",
            "roll no. of student is:  134\n",
            "semester of student is:  Semester: \n",
            "\n",
            "\n",
            "chip used in cpu is:  intel\n",
            "ram capacity is:  32 gb\n",
            "hard_disk capacity is:  512 gb\n",
            "\n",
            "\n",
            "chip used in cpu is:  ryzen\n",
            "ram capacity is: 16 gb\n",
            "hard_disk capacity is:  2 Tb\n"
          ]
        }
      ]
    }
  ]
}